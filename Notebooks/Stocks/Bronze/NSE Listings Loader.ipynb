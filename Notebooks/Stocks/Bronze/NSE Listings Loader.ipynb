{
 "cells": [
  {
   "cell_type": "code",
   "execution_count": 0,
   "metadata": {
    "application/vnd.databricks.v1+cell": {
     "cellMetadata": {
      "byteLimit": 2048000,
      "rowLimit": 10000
     },
     "inputWidgets": {},
     "nuid": "34e0128d-0f26-452a-9b42-43e7ce61b884",
     "showTitle": false,
     "tableResultSettingsMap": {
      "0": {
       "dataGridStateBlob": "{\"version\":1,\"tableState\":{\"columnPinning\":{\"left\":[\"#row_number#\"],\"right\":[]},\"columnSizing\":{},\"columnVisibility\":{}},\"settings\":{\"columns\":{}},\"syncTimestamp\":1759410009508}",
       "filterBlob": null,
       "queryPlanFiltersBlob": null,
       "tableResultIndex": 0
      }
     },
     "title": ""
    }
   },
   "outputs": [],
   "source": [
    "import requests\n",
    "from io import StringIO\n",
    "import pandas as pd\n",
    "\n",
    "def fetch_nse_equity_csv():\n",
    "    # Start session\n",
    "    session = requests.Session()\n",
    "\n",
    "    # Add headers to mimic a real browser\n",
    "    headers = {\n",
    "        \"User-Agent\": (\n",
    "            \"Mozilla/5.0 (Windows NT 10.0; Win64; x64) \"\n",
    "            \"AppleWebKit/537.36 (KHTML, like Gecko) \"\n",
    "            \"Chrome/117.0.0.0 Safari/537.36\"\n",
    "        ),\n",
    "        \"Accept\": \"text/html,application/xhtml+xml,application/xml;q=0.9,*/*;q=0.8\",\n",
    "        \"Accept-Language\": \"en-US,en;q=0.5\",\n",
    "        \"Referer\": \"https://www.nseindia.com/\"\n",
    "    }\n",
    "\n",
    "    # Step 1: Hit NSE home page to set cookies\n",
    "    session.get(\"https://www.nseindia.com\", headers=headers, timeout=10)\n",
    "\n",
    "    # Step 2: Download CSV with same headers + cookies\n",
    "    url = \"https://nsearchives.nseindia.com/content/equities/EQUITY_L.csv\"\n",
    "    response = session.get(url, headers=headers, timeout=30)\n",
    "    return response.text\n",
    "\n",
    "def fetch_nse_etf_csv():\n",
    "    # Start session\n",
    "    session = requests.Session()\n",
    "\n",
    "    # Add headers to mimic a real browser\n",
    "    headers = {\n",
    "        \"User-Agent\": (\n",
    "            \"Mozilla/5.0 (Windows NT 10.0; Win64; x64) \"\n",
    "            \"AppleWebKit/537.36 (KHTML, like Gecko) \"\n",
    "            \"Chrome/117.0.0.0 Safari/537.36\"\n",
    "        ),\n",
    "        \"Accept\": \"text/html,application/xhtml+xml,application/xml;q=0.9,*/*;q=0.8\",\n",
    "        \"Accept-Language\": \"en-US,en;q=0.5\",\n",
    "        \"Referer\": \"https://www.nseindia.com/\"\n",
    "    }\n",
    "\n",
    "    # Step 1: Hit NSE home page to set cookies\n",
    "    session.get(\"https://www.nseindia.com\", headers=headers, timeout=10)\n",
    "\n",
    "    # Step 2: Download CSV with same headers + cookies\n",
    "    url = \"https://nsearchives.nseindia.com/content/equities/eq_etfseclist.csv\"\n",
    "    response = session.get(url, headers=headers, timeout=30)\n",
    "    return response.text\n",
    "\n",
    "def fetch_nse_invit_csv():\n",
    "    # Start session\n",
    "    session = requests.Session()\n",
    "\n",
    "    # Add headers to mimic a real browser\n",
    "    headers = {\n",
    "        \"User-Agent\": (\n",
    "            \"Mozilla/5.0 (Windows NT 10.0; Win64; x64) \"\n",
    "            \"AppleWebKit/537.36 (KHTML, like Gecko) \"\n",
    "            \"Chrome/117.0.0.0 Safari/537.36\"\n",
    "        ),\n",
    "        \"Accept\": \"text/html,application/xhtml+xml,application/xml;q=0.9,*/*;q=0.8\",\n",
    "        \"Accept-Language\": \"en-US,en;q=0.5\",\n",
    "        \"Referer\": \"https://www.nseindia.com/\"\n",
    "    }\n",
    "\n",
    "    # Step 1: Hit NSE home page to set cookies\n",
    "    session.get(\"https://www.nseindia.com\", headers=headers, timeout=10)\n",
    "\n",
    "    # Step 2: Download CSV with same headers + cookies\n",
    "    url = \"https://nsearchives.nseindia.com/content/equities/INVITS_L.csv\"\n",
    "    response = session.get(url, headers=headers, timeout=30)\n",
    "    return response.text"
   ]
  },
  {
   "cell_type": "code",
   "execution_count": 0,
   "metadata": {
    "application/vnd.databricks.v1+cell": {
     "cellMetadata": {
      "byteLimit": 2048000,
      "rowLimit": 10000
     },
     "inputWidgets": {},
     "nuid": "0f862e0e-20fc-4592-9d93-367e4bc6c55a",
     "showTitle": false,
     "tableResultSettingsMap": {},
     "title": ""
    }
   },
   "outputs": [],
   "source": [
    "def load_csv_to_spark_df(csv_text):\n",
    "    csv_data = StringIO(csv_text)\n",
    "    pandas_df = pd.read_csv(csv_data)\n",
    "    return spark.createDataFrame(pandas_df)"
   ]
  },
  {
   "cell_type": "code",
   "execution_count": 0,
   "metadata": {
    "application/vnd.databricks.v1+cell": {
     "cellMetadata": {
      "byteLimit": 2048000,
      "rowLimit": 10000
     },
     "inputWidgets": {},
     "nuid": "4922e803-d7a9-4ddf-b9f3-37e74b9b91ef",
     "showTitle": false,
     "tableResultSettingsMap": {},
     "title": ""
    }
   },
   "outputs": [],
   "source": [
    "csv_text = fetch_nse_equity_csv()\n",
    "df = load_csv_to_spark_df(csv_text)\n",
    "spark_df = df.toDF(*[c.strip().replace(\" \", \"_\").replace(\"(\",\"\").replace(\")\",\"\") for c in df.columns])"
   ]
  },
  {
   "cell_type": "code",
   "execution_count": 0,
   "metadata": {
    "application/vnd.databricks.v1+cell": {
     "cellMetadata": {
      "byteLimit": 2048000,
      "rowLimit": 10000
     },
     "inputWidgets": {},
     "nuid": "c4e84651-15a7-4d18-a6d0-ba065bcac0d6",
     "showTitle": false,
     "tableResultSettingsMap": {},
     "title": ""
    }
   },
   "outputs": [],
   "source": [
    "spark_df.write.mode(\"overwrite\").saveAsTable(\"personal_finance.bronze.company_listing_info\")"
   ]
  },
  {
   "cell_type": "code",
   "execution_count": 0,
   "metadata": {
    "application/vnd.databricks.v1+cell": {
     "cellMetadata": {
      "byteLimit": 2048000,
      "rowLimit": 10000
     },
     "inputWidgets": {},
     "nuid": "7b529929-c2ad-4d2c-bd8b-a05c924493cc",
     "showTitle": false,
     "tableResultSettingsMap": {},
     "title": ""
    }
   },
   "outputs": [],
   "source": [
    "csv_text = fetch_nse_etf_csv()\n",
    "df = load_csv_to_spark_df(csv_text)\n",
    "spark_df = df.toDF(*[c.strip().replace(\" \", \"_\").replace(\"(\",\"\").replace(\")\",\"\") for c in df.columns])\n",
    "\n",
    "display(spark_df)"
   ]
  },
  {
   "cell_type": "code",
   "execution_count": 0,
   "metadata": {
    "application/vnd.databricks.v1+cell": {
     "cellMetadata": {
      "byteLimit": 2048000,
      "rowLimit": 10000
     },
     "inputWidgets": {},
     "nuid": "ff8cce20-7a4e-4100-8187-7894f892d1ba",
     "showTitle": false,
     "tableResultSettingsMap": {},
     "title": ""
    }
   },
   "outputs": [],
   "source": [
    "spark_df.write.mode(\"overwrite\").saveAsTable(\"personal_finance.bronze.etf_listing_info\")"
   ]
  },
  {
   "cell_type": "code",
   "execution_count": 0,
   "metadata": {
    "application/vnd.databricks.v1+cell": {
     "cellMetadata": {
      "byteLimit": 2048000,
      "rowLimit": 10000
     },
     "inputWidgets": {},
     "nuid": "0919f4f7-ad0e-4ee1-9435-8f64debfcbfd",
     "showTitle": false,
     "tableResultSettingsMap": {},
     "title": ""
    }
   },
   "outputs": [],
   "source": [
    "csv_text = fetch_nse_invit_csv()\n",
    "df = load_csv_to_spark_df('\\n'.join(csv_text.splitlines()[:-2]))\n",
    "spark_df = df.toDF(*[c.strip().replace(\" \", \"_\").replace(\"(\",\"\").replace(\")\",\"\") for c in df.columns])\n",
    "\n",
    "display(spark_df)"
   ]
  },
  {
   "cell_type": "code",
   "execution_count": 0,
   "metadata": {
    "application/vnd.databricks.v1+cell": {
     "cellMetadata": {
      "byteLimit": 2048000,
      "rowLimit": 10000
     },
     "inputWidgets": {},
     "nuid": "aa6e88f7-3808-4884-9b37-62c9e99984fb",
     "showTitle": false,
     "tableResultSettingsMap": {},
     "title": ""
    }
   },
   "outputs": [],
   "source": [
    "spark_df.write.mode(\"overwrite\").saveAsTable(\"personal_finance.bronze.invit_listing_info\")"
   ]
  }
 ],
 "metadata": {
  "application/vnd.databricks.v1+notebook": {
   "computePreferences": null,
   "dashboards": [],
   "environmentMetadata": {
    "base_environment": "",
    "environment_version": "3"
   },
   "inputWidgetPreferences": null,
   "language": "python",
   "notebookMetadata": {
    "pythonIndentUnit": 4
   },
   "notebookName": "NSE Listings Loader",
   "widgets": {}
  },
  "language_info": {
   "name": "python"
  }
 },
 "nbformat": 4,
 "nbformat_minor": 0
}
