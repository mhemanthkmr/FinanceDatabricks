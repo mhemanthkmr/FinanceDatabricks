{
 "cells": [
  {
   "cell_type": "code",
   "execution_count": 0,
   "metadata": {
    "application/vnd.databricks.v1+cell": {
     "cellMetadata": {
      "byteLimit": 2048000,
      "rowLimit": 10000
     },
     "inputWidgets": {},
     "nuid": "d849e65e-0a09-430d-94a2-83e4f3a98f6f",
     "showTitle": false,
     "tableResultSettingsMap": {},
     "title": ""
    }
   },
   "outputs": [],
   "source": [
    "from pyspark.sql.functions import coalesce, col, when\n",
    "\n",
    "eh = spark.table(\"personal_finance.silver.consolidated_equity_holdings\")\n",
    "yi = spark.table(\"personal_finance.bronze.yfinance_company_info\")\n",
    "\n",
    "df = (\n",
    "    eh.alias(\"eh\")\n",
    "    .join(yi.alias(\"yi\"), col(\"eh.ISIN\") == col(\"yi.ISIN\"))\n",
    "    .select(\n",
    "        \"eh.*\",\n",
    "        coalesce(col(\"yi.currentPrice\"), col(\"yi.previousClose\")).alias(\"LatestTradedPrice\"),\n",
    "        col(\"yi.previousClose\").alias(\"PreviousClose\"),\n",
    "        (col(\"eh.TotalQuantity\") * coalesce(col(\"yi.currentPrice\"), col(\"yi.previousClose\"))).alias(\"HoldingValue\"),\n",
    "        (coalesce(col(\"yi.currentPrice\"), col(\"yi.previousClose\")) - col(\"eh.WeightedAverageBuyPrice\")).alias(\"Returns\"),\n",
    "        (\n",
    "            (coalesce(col(\"yi.currentPrice\"), col(\"yi.previousClose\")) - col(\"eh.WeightedAverageBuyPrice\")) /\n",
    "            when(col(\"eh.WeightedAverageBuyPrice\") != 0, col(\"eh.WeightedAverageBuyPrice\"))\n",
    "        ).alias(\"ReturnsPercentage\"),\n",
    "        col(\"yi.trailingPE\").cast(\"double\").alias(\"peRatio\"),\n",
    "        col(\"yi.priceToBook\").cast(\"double\").alias(\"PbRatio\")\n",
    "    )\n",
    ")"
   ]
  },
  {
   "cell_type": "code",
   "execution_count": 0,
   "metadata": {
    "application/vnd.databricks.v1+cell": {
     "cellMetadata": {
      "byteLimit": 2048000,
      "rowLimit": 10000
     },
     "inputWidgets": {},
     "nuid": "2ffaef28-e03f-49de-84ef-cffed53a2193",
     "showTitle": false,
     "tableResultSettingsMap": {},
     "title": ""
    }
   },
   "outputs": [],
   "source": [
    "df.write.mode(\"overwrite\").format(\"delta\").saveAsTable(\"personal_finance.gold.equity_holdings\")\n",
    "display(df)"
   ]
  }
 ],
 "metadata": {
  "application/vnd.databricks.v1+notebook": {
   "computePreferences": null,
   "dashboards": [],
   "environmentMetadata": {
    "base_environment": "",
    "environment_version": "4"
   },
   "inputWidgetPreferences": null,
   "language": "python",
   "notebookMetadata": {
    "mostRecentlyExecutedCommandWithImplicitDF": {
     "commandId": 8931120625743978,
     "dataframes": [
      "_sqldf"
     ]
    },
    "pythonIndentUnit": 4
   },
   "notebookName": "Stocks Aggregation",
   "widgets": {}
  },
  "language_info": {
   "name": "python"
  }
 },
 "nbformat": 4,
 "nbformat_minor": 0
}
