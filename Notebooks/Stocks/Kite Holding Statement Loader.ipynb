{
 "cells": [
  {
   "cell_type": "code",
   "execution_count": 0,
   "metadata": {
    "application/vnd.databricks.v1+cell": {
     "cellMetadata": {
      "byteLimit": 2048000,
      "rowLimit": 10000
     },
     "inputWidgets": {},
     "nuid": "46095c9d-f686-4f48-8389-47c9e23f7214",
     "showTitle": false,
     "tableResultSettingsMap": {},
     "title": ""
    }
   },
   "outputs": [],
   "source": [
    "%pip install openpyxl"
   ]
  },
  {
   "cell_type": "code",
   "execution_count": 0,
   "metadata": {
    "application/vnd.databricks.v1+cell": {
     "cellMetadata": {
      "byteLimit": 2048000,
      "rowLimit": 10000
     },
     "inputWidgets": {},
     "nuid": "2f663794-de2d-4da8-aff0-ca643678a702",
     "showTitle": false,
     "tableResultSettingsMap": {},
     "title": ""
    }
   },
   "outputs": [],
   "source": [
    "import os\n",
    "import re\n",
    "import pandas as pd\n",
    "from datetime import datetime\n",
    "from pyspark.sql import functions as F"
   ]
  },
  {
   "cell_type": "code",
   "execution_count": 0,
   "metadata": {
    "application/vnd.databricks.v1+cell": {
     "cellMetadata": {
      "byteLimit": 2048000,
      "rowLimit": 10000
     },
     "inputWidgets": {},
     "nuid": "378736b3-8e07-4a97-a334-933db77c7404",
     "showTitle": false,
     "tableResultSettingsMap": {
      "0": {
       "dataGridStateBlob": "{\"version\":1,\"tableState\":{\"columnPinning\":{\"left\":[\"#row_number#\"],\"right\":[]},\"columnSizing\":{},\"columnVisibility\":{}},\"settings\":{\"columns\":{}},\"syncTimestamp\":1759388724174}",
       "filterBlob": null,
       "queryPlanFiltersBlob": null,
       "tableResultIndex": 0
      }
     },
     "title": ""
    }
   },
   "outputs": [],
   "source": [
    "# List all files in the holdings directory and filter for Excel files\n",
    "files = [f for f in dbutils.fs.ls(\"/Volumes/personal_finance/default/files/kite/holdings\") if not f.isDir() and (f.name.endswith('.xlsx') or f.name.endswith('.xls'))]\n",
    "\n",
    "# Extract client id and formatted datetime from each file\n",
    "data = []\n",
    "for f in files:\n",
    "    match = re.search(r'holdings-([A-Za-z0-9]+)\\.xlsx', f.name)\n",
    "    client_id = match.group(1) if match else None\n",
    "    dt = datetime.fromtimestamp(f.modificationTime / 1000).strftime('%Y-%m-%d %H:%M:%S')\n",
    "    path = f.path\n",
    "    if path.startswith(\"dbfs:\"):\n",
    "        path = path[5:]\n",
    "    holding_date = dt.split(\" \")[0]  # Set holding_date as modification date only\n",
    "    data.append({\"name\": f.name, \"path\": path, \"modificationTime\": dt, \"client_id\": client_id, \"holding_date\": holding_date, \"modTimeRaw\": f.modificationTime})\n",
    "\n",
    "file_info_df = pd.DataFrame(data)\n",
    "\n",
    "# Keep only the most recently modified file for each client_id\n",
    "file_info_df = file_info_df.sort_values(\"modTimeRaw\", ascending=False).drop_duplicates(subset=[\"client_id\"], keep=\"first\").drop(columns=[\"modTimeRaw\"])\n",
    "\n",
    "display(file_info_df)"
   ]
  },
  {
   "cell_type": "code",
   "execution_count": 0,
   "metadata": {
    "application/vnd.databricks.v1+cell": {
     "cellMetadata": {
      "byteLimit": 2048000,
      "rowLimit": 10000
     },
     "inputWidgets": {},
     "nuid": "dc8b4df2-2dac-49f9-8a52-31c8a91de41d",
     "showTitle": false,
     "tableResultSettingsMap": {
      "0": {
       "dataGridStateBlob": "{\"version\":1,\"tableState\":{\"columnPinning\":{\"left\":[\"#row_number#\"],\"right\":[]},\"columnSizing\":{},\"columnVisibility\":{}},\"settings\":{\"columns\":{}},\"syncTimestamp\":1759405304539}",
       "filterBlob": null,
       "queryPlanFiltersBlob": null,
       "tableResultIndex": 0
      }
     },
     "title": ""
    }
   },
   "outputs": [],
   "source": [
    "import pandas as pd\n",
    "import io\n",
    "\n",
    "dfs = []\n",
    "for _, f in file_info_df.iterrows():\n",
    "    df = pd.read_excel(\n",
    "        f['path'], engine=\"openpyxl\", skiprows=22\n",
    "    )\n",
    "    df['Client_Id'] = f['client_id']\n",
    "    df['Holding_Date'] = f['holding_date']\n",
    "    dfs.append(df)"
   ]
  },
  {
   "cell_type": "code",
   "execution_count": 0,
   "metadata": {
    "application/vnd.databricks.v1+cell": {
     "cellMetadata": {
      "byteLimit": 2048000,
      "rowLimit": 10000
     },
     "inputWidgets": {},
     "nuid": "381559cd-de39-4f8f-a0c6-e2cb8c95a4c4",
     "showTitle": false,
     "tableResultSettingsMap": {
      "0": {
       "dataGridStateBlob": "{\"version\":1,\"tableState\":{\"columnPinning\":{\"left\":[\"#row_number#\"],\"right\":[]},\"columnSizing\":{},\"columnVisibility\":{}},\"settings\":{\"columns\":{}},\"syncTimestamp\":1759405420038}",
       "filterBlob": null,
       "queryPlanFiltersBlob": null,
       "tableResultIndex": 0
      }
     },
     "title": ""
    }
   },
   "outputs": [],
   "source": [
    "for i, df in enumerate(dfs):\n",
    "    if \"Client ID\" in df.columns:\n",
    "        dfs[i] = df[df[\"Client ID\"] != \"Total\"]\n",
    "\n",
    "if dfs:\n",
    "    merged_df = pd.concat(dfs, ignore_index=True).drop(columns=[\"Unnamed: 0\"], errors=\"ignore\")\n",
    "    display(merged_df)"
   ]
  },
  {
   "cell_type": "code",
   "execution_count": 0,
   "metadata": {
    "application/vnd.databricks.v1+cell": {
     "cellMetadata": {
      "byteLimit": 2048000,
      "rowLimit": 10000
     },
     "inputWidgets": {},
     "nuid": "6684c52d-e387-42a6-9631-c65a010c88a9",
     "showTitle": false,
     "tableResultSettingsMap": {},
     "title": ""
    }
   },
   "outputs": [],
   "source": [
    "spark_df = spark.createDataFrame(merged_df)\n",
    "spark_df = spark_df.toDF(*[c.replace(\" \", \"_\").replace(\"(\",\"\").replace(\")\",\"\") for c in spark_df.columns])\n",
    "spark_df.write.mode(\"overwrite\").saveAsTable(\"personal_finance.bronze.kite_holding_statement\")"
   ]
  }
 ],
 "metadata": {
  "application/vnd.databricks.v1+notebook": {
   "computePreferences": null,
   "dashboards": [],
   "environmentMetadata": {
    "base_environment": "",
    "environment_version": "3"
   },
   "inputWidgetPreferences": null,
   "language": "python",
   "notebookMetadata": {
    "mostRecentlyExecutedCommandWithImplicitDF": {
     "commandId": 8916451455098158,
     "dataframes": [
      "_sqldf"
     ]
    },
    "pythonIndentUnit": 4
   },
   "notebookName": "Kite Holding Statement Loader",
   "widgets": {}
  },
  "language_info": {
   "name": "python"
  }
 },
 "nbformat": 4,
 "nbformat_minor": 0
}
