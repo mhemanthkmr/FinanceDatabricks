{
 "cells": [
  {
   "cell_type": "code",
   "execution_count": 0,
   "metadata": {
    "application/vnd.databricks.v1+cell": {
     "cellMetadata": {
      "byteLimit": 2048000,
      "rowLimit": 10000
     },
     "inputWidgets": {},
     "nuid": "f5d74995-dff4-44e3-8120-d28f0952f033",
     "showTitle": false,
     "tableResultSettingsMap": {},
     "title": ""
    }
   },
   "outputs": [],
   "source": [
    "%pip install yfinance"
   ]
  },
  {
   "cell_type": "code",
   "execution_count": 0,
   "metadata": {
    "application/vnd.databricks.v1+cell": {
     "cellMetadata": {
      "byteLimit": 2048000,
      "implicitDf": true,
      "rowLimit": 10000
     },
     "inputWidgets": {},
     "nuid": "be2c929b-fd08-49cc-a336-024697b0e759",
     "showTitle": false,
     "tableResultSettingsMap": {},
     "title": ""
    }
   },
   "outputs": [],
   "source": []
  },
  {
   "cell_type": "code",
   "execution_count": 0,
   "metadata": {
    "application/vnd.databricks.v1+cell": {
     "cellMetadata": {
      "byteLimit": 2048000,
      "rowLimit": 10000
     },
     "inputWidgets": {},
     "nuid": "9af682dd-981d-4434-9083-217f50b869e6",
     "showTitle": false,
     "tableResultSettingsMap": {},
     "title": ""
    }
   },
   "outputs": [],
   "source": [
    "from pyspark.sql.functions import col, when, concat, lit\n",
    "\n",
    "angel_isin = spark.table(\"personal_finance.bronze.angel_one_holding_statement\").select(\"ISIN\")\n",
    "groww_isin = spark.table(\"personal_finance.bronze.groww_holding_statement\").select(\"ISIN\")\n",
    "kite_isin = spark.table(\"personal_finance.bronze.kite_holding_statement\").select(\"ISIN\")\n",
    "\n",
    "consolidated_isin = angel_isin.union(groww_isin).union(kite_isin).distinct()\n",
    "\n",
    "company_listing_info = spark.table(\"personal_finance.silver.company_listing_info\")\n",
    "\n",
    "result_df = (\n",
    "    consolidated_isin\n",
    "    .join(company_listing_info, col(\"ISINNumber\") == col(\"ISIN\"))\n",
    "    .select(\n",
    "        col(\"ISIN\"),\n",
    "        when(\n",
    "            col(\"Securitytype\") == \"INVIT\",\n",
    "            concat(col(\"Symbol\"), lit(\"-\"), col(\"Series\"))\n",
    "        ).otherwise(col(\"Symbol\")).alias(\"Symbol\")\n",
    "    )\n",
    "    .distinct()\n",
    ")"
   ]
  },
  {
   "cell_type": "code",
   "execution_count": 0,
   "metadata": {
    "application/vnd.databricks.v1+cell": {
     "cellMetadata": {
      "byteLimit": 2048000,
      "rowLimit": 10000
     },
     "inputWidgets": {},
     "nuid": "b70f715c-b881-4efe-ad2c-3325b9d691a5",
     "showTitle": false,
     "tableResultSettingsMap": {},
     "title": ""
    }
   },
   "outputs": [],
   "source": [
    "import yfinance as yf\n",
    "import pandas as pd\n",
    "\n",
    "symbols = [row['Symbol'] for row in result_df.select('Symbol').distinct().collect()]\n",
    "\n",
    "info_list = []\n",
    "for symbol in symbols:\n",
    "    ticker = yf.Ticker(symbol + '.NS')\n",
    "    info = ticker.info\n",
    "    info_filtered = {\n",
    "        k: str(v) if v is not None else None\n",
    "        for k, v in info.items()\n",
    "        if k != \"companyOfficers\"\n",
    "    }\n",
    "    info_list.append(info_filtered)\n",
    "\n",
    "info_df = pd.DataFrame(info_list)"
   ]
  },
  {
   "cell_type": "code",
   "execution_count": 0,
   "metadata": {
    "application/vnd.databricks.v1+cell": {
     "cellMetadata": {
      "byteLimit": 2048000,
      "rowLimit": 10000
     },
     "inputWidgets": {},
     "nuid": "e969a4d7-636b-4224-9e11-d48207c42631",
     "showTitle": false,
     "tableResultSettingsMap": {},
     "title": ""
    }
   },
   "outputs": [],
   "source": [
    "spark_df = spark.createDataFrame(info_df)\n",
    "spark_df.write.mode(\"overwrite\").saveAsTable(\"personal_finance.bronze.yfinance_company_info\")"
   ]
  },
  {
   "cell_type": "code",
   "execution_count": 0,
   "metadata": {
    "application/vnd.databricks.v1+cell": {
     "cellMetadata": {
      "byteLimit": 2048000,
      "implicitDf": true,
      "rowLimit": 10000
     },
     "inputWidgets": {},
     "nuid": "1d6f203d-d398-4e0f-8fd1-88b552664bb4",
     "showTitle": false,
     "tableResultSettingsMap": {},
     "title": ""
    }
   },
   "outputs": [],
   "source": [
    "%sql\n",
    "select * from personal_finance.bronze.yfinance_company_info"
   ]
  }
 ],
 "metadata": {
  "application/vnd.databricks.v1+notebook": {
   "computePreferences": null,
   "dashboards": [],
   "environmentMetadata": {
    "base_environment": "",
    "environment_version": "3"
   },
   "inputWidgetPreferences": null,
   "language": "python",
   "notebookMetadata": {
    "mostRecentlyExecutedCommandWithImplicitDF": {
     "commandId": 8869732076179335,
     "dataframes": [
      "_sqldf"
     ]
    },
    "pythonIndentUnit": 4
   },
   "notebookName": "YFinance Loader",
   "widgets": {}
  },
  "language_info": {
   "name": "python"
  }
 },
 "nbformat": 4,
 "nbformat_minor": 0
}
