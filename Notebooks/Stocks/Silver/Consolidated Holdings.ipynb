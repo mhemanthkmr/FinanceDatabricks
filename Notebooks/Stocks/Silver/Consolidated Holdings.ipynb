{
 "cells": [
  {
   "cell_type": "code",
   "execution_count": 0,
   "metadata": {
    "application/vnd.databricks.v1+cell": {
     "cellMetadata": {
      "byteLimit": 2048000,
      "rowLimit": 10000
     },
     "inputWidgets": {},
     "nuid": "0c74528b-1693-4cde-badb-67bfd7d40be7",
     "showTitle": false,
     "tableResultSettingsMap": {},
     "title": ""
    }
   },
   "outputs": [],
   "source": [
    "# Load Kite holdings\n",
    "kite_df = (\n",
    "    spark.table(\"personal_finance.bronze.kite_holding_statement\")\n",
    "    .where(\"ISIN IS NOT NULL AND Quantity_Available > 0 AND Average_Price IS NOT NULL\")\n",
    "    .selectExpr(\n",
    "        \"ISIN\",\n",
    "        \"CAST(Quantity_Available AS DOUBLE) AS quantity\",\n",
    "        \"CAST(Average_Price AS DOUBLE) AS buy_price\"\n",
    "    )\n",
    ")\n",
    "\n",
    "# Load Groww holdings\n",
    "groww_df = (\n",
    "    spark.table(\"personal_finance.bronze.groww_holding_statement\")\n",
    "    .where(\"ISIN IS NOT NULL AND Quantity > 0 AND Average_buy_price IS NOT NULL\")\n",
    "    .selectExpr(\n",
    "        \"ISIN\",\n",
    "        \"CAST(Quantity AS DOUBLE) AS quantity\",\n",
    "        \"CAST(Average_buy_price AS DOUBLE) AS buy_price\"\n",
    "    )\n",
    ")\n",
    "\n",
    "# Load Angel One holdings\n",
    "angel_df = (\n",
    "    spark.table(\"personal_finance.bronze.angel_one_holding_statement\")\n",
    "    .where(\"ISIN IS NOT NULL AND Total_Quantity > 0 AND Avg_Trading_Price IS NOT NULL\")\n",
    "    .selectExpr(\n",
    "        \"ISIN\",\n",
    "        \"CAST(Total_Quantity AS DOUBLE) AS quantity\",\n",
    "        \"CAST(Avg_Trading_Price AS DOUBLE) AS buy_price\"\n",
    "    )\n",
    ")\n",
    "\n",
    "# Union all broker holdings\n",
    "all_holdings_df = kite_df.unionByName(groww_df).unionByName(angel_df)\n",
    "filtered_holdings_df = all_holdings_df.where(\"quantity > 0 AND buy_price IS NOT NULL\")"
   ]
  },
  {
   "cell_type": "code",
   "execution_count": 0,
   "metadata": {
    "application/vnd.databricks.v1+cell": {
     "cellMetadata": {
      "byteLimit": 2048000,
      "rowLimit": 10000
     },
     "inputWidgets": {},
     "nuid": "32b72818-befe-4ffd-937f-c3c5400278b4",
     "showTitle": false,
     "tableResultSettingsMap": {},
     "title": ""
    }
   },
   "outputs": [],
   "source": [
    "# Aggregate to get consolidated holdings\n",
    "from pyspark.sql import functions as F\n",
    "\n",
    "consolidated_df = (\n",
    "    filtered_holdings_df\n",
    "    .groupBy(\"ISIN\")\n",
    "    .agg(\n",
    "        F.sum(\"quantity\").alias(\"total_quantity\"),\n",
    "        (F.sum(F.col(\"quantity\") * F.col(\"buy_price\")) / F.nullif(F.sum(\"quantity\"), F.lit(0))).alias(\"weighted_avg_buy_price\")\n",
    "    )\n",
    ")\n",
    "\n",
    "# Load company info\n",
    "company_info_df = spark.table(\"personal_finance.silver.company_listing_info\")\n",
    "\n",
    "# Join with company info\n",
    "final_df = (\n",
    "    consolidated_df.alias(\"h\")\n",
    "    .join(company_info_df.alias(\"c\"), F.col(\"h.ISIN\") == F.col(\"c.ISINNumber\"), \"left\")\n",
    "    .select(\n",
    "        \"c.Symbol\",\n",
    "        \"c.NameOfCompany\",\n",
    "        \"h.ISIN\",\n",
    "        F.col(\"h.total_quantity\").alias(\"TotalQuantity\"),\n",
    "        F.col(\"h.weighted_avg_buy_price\").alias(\"WeightedAverageBuyPrice\")\n",
    "    )\n",
    "    .orderBy(F.col(\"TotalQuantity\").desc())\n",
    ")\n",
    "\n",
    "display(final_df)"
   ]
  },
  {
   "cell_type": "code",
   "execution_count": 0,
   "metadata": {
    "application/vnd.databricks.v1+cell": {
     "cellMetadata": {
      "byteLimit": 2048000,
      "rowLimit": 10000
     },
     "inputWidgets": {},
     "nuid": "43bf6a49-cec7-479a-815b-d0e386db8356",
     "showTitle": false,
     "tableResultSettingsMap": {},
     "title": ""
    }
   },
   "outputs": [],
   "source": [
    "final_df.write.format(\"delta\").mode(\"overwrite\").saveAsTable(\"personal_finance.silver.consolidated_equity_holdings\")"
   ]
  }
 ],
 "metadata": {
  "application/vnd.databricks.v1+notebook": {
   "computePreferences": null,
   "dashboards": [],
   "environmentMetadata": {
    "base_environment": "",
    "environment_version": "3"
   },
   "inputWidgetPreferences": null,
   "language": "python",
   "notebookMetadata": {
    "pythonIndentUnit": 4
   },
   "notebookName": "Consolidated Holdings",
   "widgets": {}
  },
  "language_info": {
   "name": "python"
  }
 },
 "nbformat": 4,
 "nbformat_minor": 0
}
