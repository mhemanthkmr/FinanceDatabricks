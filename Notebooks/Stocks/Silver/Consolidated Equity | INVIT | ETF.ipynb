{
 "cells": [
  {
   "cell_type": "code",
   "execution_count": 0,
   "metadata": {
    "application/vnd.databricks.v1+cell": {
     "cellMetadata": {
      "byteLimit": 2048000,
      "rowLimit": 10000
     },
     "inputWidgets": {},
     "nuid": "e1c781c9-0fde-4a2a-b15d-064f4621dd68",
     "showTitle": false,
     "tableResultSettingsMap": {},
     "title": ""
    }
   },
   "outputs": [],
   "source": [
    "from pyspark.sql.functions import lit"
   ]
  },
  {
   "cell_type": "code",
   "execution_count": 0,
   "metadata": {
    "application/vnd.databricks.v1+cell": {
     "cellMetadata": {
      "byteLimit": 2048000,
      "implicitDf": true,
      "rowLimit": 10000
     },
     "inputWidgets": {},
     "nuid": "5c1fed38-5af1-41c9-8bd0-1bd6f97e6b4b",
     "showTitle": false,
     "tableResultSettingsMap": {},
     "title": ""
    }
   },
   "outputs": [],
   "source": [
    "equity_df = spark.sql(\"SELECT * FROM personal_finance.bronze.company_listing_info\").drop(\"PAID_UP_VALUE\").withColumn(\"SecurityType\", lit(\"EQUITY\"))\n",
    "invit_df = spark.sql(\"SELECT * FROM personal_finance.bronze.invit_listing_info\").drop(\"PAID_UP_VALUE\").withColumn(\"SecurityType\", lit(\"INVIT\"))\n",
    "etf_df = spark.sql(\"SELECT * FROM personal_finance.bronze.etf_listing_info\").withColumn(\"SecurityType\", lit(\"ETF\")).drop(\"PAID_UP_VALUE\")"
   ]
  },
  {
   "cell_type": "code",
   "execution_count": 0,
   "metadata": {
    "application/vnd.databricks.v1+cell": {
     "cellMetadata": {
      "byteLimit": 2048000,
      "rowLimit": 10000
     },
     "inputWidgets": {},
     "nuid": "212d6d15-fb6f-414a-9f8a-c844476ffc7d",
     "showTitle": false,
     "tableResultSettingsMap": {},
     "title": ""
    }
   },
   "outputs": [],
   "source": [
    "etf_df = etf_df.withColumnRenamed(\"Symbol\", \"SYMBOL\") \\\n",
    "    .withColumnRenamed(\"SecurityName\", \"NAME_OF_COMPANY\") \\\n",
    "    .withColumnRenamed(\"Underlying\", \"SERIES\") \\\n",
    "    .withColumnRenamed(\"DateOfListing\", \"DATE_OF_LISTING\") \\\n",
    "    .withColumnRenamed(\"PaidUpValue\", \"PAID_UP_VALUE\") \\\n",
    "    .withColumnRenamed(\"MarketLot\", \"MARKET_LOT\") \\\n",
    "    .withColumnRenamed(\"ISINNumber\", \"ISIN_NUMBER\") \\\n",
    "    .withColumnRenamed(\"FaceValue\", \"FACE_VALUE\")"
   ]
  },
  {
   "cell_type": "code",
   "execution_count": 0,
   "metadata": {
    "application/vnd.databricks.v1+cell": {
     "cellMetadata": {
      "byteLimit": 2048000,
      "rowLimit": 10000
     },
     "inputWidgets": {},
     "nuid": "d8335e37-166d-4b65-b2d3-29553712748c",
     "showTitle": false,
     "tableResultSettingsMap": {},
     "title": ""
    }
   },
   "outputs": [],
   "source": [
    "merged_df = equity_df.unionByName(invit_df).unionByName(etf_df)"
   ]
  },
  {
   "cell_type": "code",
   "execution_count": 0,
   "metadata": {
    "application/vnd.databricks.v1+cell": {
     "cellMetadata": {
      "byteLimit": 2048000,
      "rowLimit": 10000
     },
     "inputWidgets": {},
     "nuid": "e6e44737-e8a5-4487-8088-ee15a25843ad",
     "showTitle": false,
     "tableResultSettingsMap": {
      "0": {
       "dataGridStateBlob": "{\"version\":1,\"tableState\":{\"columnPinning\":{\"left\":[\"#row_number#\"],\"right\":[]},\"columnSizing\":{},\"columnVisibility\":{}},\"settings\":{\"columns\":{}},\"syncTimestamp\":1759588660574}",
       "filterBlob": null,
       "queryPlanFiltersBlob": null,
       "tableResultIndex": 0
      }
     },
     "title": ""
    }
   },
   "outputs": [],
   "source": [
    "pascal_case_cols = [ ''.join(word.capitalize() for word in col.split('_')) for col in merged_df.columns]\n",
    "renamed_df = merged_df.toDF(*pascal_case_cols)\n",
    "renamed_df = renamed_df.withColumnRenamed(\"IsinNumber\", \"ISINNumber\")\n",
    "display(renamed_df.limit(5))"
   ]
  },
  {
   "cell_type": "code",
   "execution_count": 0,
   "metadata": {
    "application/vnd.databricks.v1+cell": {
     "cellMetadata": {
      "byteLimit": 2048000,
      "rowLimit": 10000
     },
     "inputWidgets": {},
     "nuid": "d1359d8d-4b8a-45ae-a6e0-572d1f275586",
     "showTitle": false,
     "tableResultSettingsMap": {},
     "title": ""
    }
   },
   "outputs": [],
   "source": [
    "renamed_df.write.mode(\"overwrite\").saveAsTable(\"personal_finance.silver.company_listing_info\")"
   ]
  }
 ],
 "metadata": {
  "application/vnd.databricks.v1+notebook": {
   "computePreferences": null,
   "dashboards": [],
   "environmentMetadata": {
    "base_environment": "",
    "environment_version": "3"
   },
   "inputWidgetPreferences": null,
   "language": "python",
   "notebookMetadata": {
    "mostRecentlyExecutedCommandWithImplicitDF": {
     "commandId": 7690331462224893,
     "dataframes": [
      "_sqldf"
     ]
    },
    "pythonIndentUnit": 4
   },
   "notebookName": "Consolidated Equity | INVIT | ETF",
   "widgets": {}
  },
  "language_info": {
   "name": "python"
  }
 },
 "nbformat": 4,
 "nbformat_minor": 0
}
