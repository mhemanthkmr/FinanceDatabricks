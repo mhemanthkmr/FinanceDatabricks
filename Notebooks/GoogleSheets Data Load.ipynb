{
 "cells": [
  {
   "cell_type": "code",
   "execution_count": 0,
   "metadata": {
    "application/vnd.databricks.v1+cell": {
     "cellMetadata": {
      "byteLimit": 2048000,
      "rowLimit": 10000
     },
     "inputWidgets": {},
     "nuid": "98bcf36d-cfed-448b-be9d-16c2a1417991",
     "showTitle": false,
     "tableResultSettingsMap": {},
     "title": ""
    }
   },
   "outputs": [],
   "source": [
    "%pip install gspread oauth2client"
   ]
  },
  {
   "cell_type": "code",
   "execution_count": 0,
   "metadata": {
    "application/vnd.databricks.v1+cell": {
     "cellMetadata": {
      "byteLimit": 2048000,
      "rowLimit": 10000
     },
     "inputWidgets": {},
     "nuid": "2fe60f7d-dbb9-4eb7-9288-81f58e5204cd",
     "showTitle": false,
     "tableResultSettingsMap": {},
     "title": ""
    }
   },
   "outputs": [],
   "source": [
    "import gspread\n",
    "from oauth2client.service_account import ServiceAccountCredentials\n",
    "import pandas as pd\n",
    "\n",
    "# Define the scope and credentials for Google Sheets API\n",
    "scope = [\"https://spreadsheets.google.com/feeds\", \"https://www.googleapis.com/auth/drive\"]\n",
    "creds = ServiceAccountCredentials.from_json_keyfile_name('/Workspace/Users/mhemanthkmr143@gmail.com/service.json', scope)\n",
    "client = gspread.authorize(creds)\n",
    "\n",
    "# Open the Google Sheet by name\n",
    "sheet = client.open(\"Attendance  (Responses)\").sheet1\n",
    "\n",
    "# Get all records from the sheet\n",
    "data = sheet.get_all_records()"
   ]
  },
  {
   "cell_type": "code",
   "execution_count": 0,
   "metadata": {
    "application/vnd.databricks.v1+cell": {
     "cellMetadata": {
      "byteLimit": 2048000,
      "rowLimit": 10000
     },
     "inputWidgets": {},
     "nuid": "7bc8e6d0-06ab-4708-8936-4878ffa3469b",
     "showTitle": false,
     "tableResultSettingsMap": {},
     "title": ""
    }
   },
   "outputs": [],
   "source": [
    "from pyspark.sql.functions import monotonically_increasing_id, to_date\n",
    "\n",
    "df = spark.createDataFrame(data)\n",
    "\n",
    "# Rename columns to snake case\n",
    "df = df.withColumnRenamed(\"Timestamp\", \"timestamp\") \\\n",
    "       .withColumnRenamed(\"Email Address\", \"email_address\") \\\n",
    "       .withColumnRenamed(\"Name\", \"name\") \\\n",
    "       .withColumnRenamed(\"Batch\", \"batch\") \\\n",
    "       .withColumnRenamed(\"Student ID\", \"student_id\")\n",
    "\n",
    "# Convert string to timestamp\n",
    "df = df.withColumn(\"timestamp\", to_date(\"timestamp\", \"M/d/yyyy H:mm:ss\"))\n",
    "\n",
    "# Add a unique identifier column starting from 1 to n\n",
    "df = df.withColumn(\"id\", monotonically_increasing_id() + 1)\n",
    "\n",
    "# Reorder columns to display id as first\n",
    "columns = [\"id\"] + [col for col in df.columns if col != \"id\"]\n",
    "df = df.select(columns)\n",
    "\n",
    "display(df)"
   ]
  },
  {
   "cell_type": "code",
   "execution_count": 0,
   "metadata": {
    "application/vnd.databricks.v1+cell": {
     "cellMetadata": {
      "byteLimit": 2048000,
      "rowLimit": 10000
     },
     "inputWidgets": {},
     "nuid": "e9e99b35-9e48-4318-8086-c4df9bcdde2f",
     "showTitle": false,
     "tableResultSettingsMap": {},
     "title": ""
    }
   },
   "outputs": [],
   "source": [
    "from pyspark.sql.functions import current_date\n",
    "\n",
    "# Add a load_date column to the new data\n",
    "df = df.withColumn(\"load_date\", current_date())\n",
    "\n",
    "# Write the merged data back to Unity Catalog\n",
    "df.write.format(\"delta\").mode(\"overwrite\").saveAsTable(\"besant.attendance.student_attendance\")"
   ]
  }
 ],
 "metadata": {
  "application/vnd.databricks.v1+notebook": {
   "computePreferences": null,
   "dashboards": [
    {
     "elements": [],
     "globalVars": {},
     "guid": "",
     "layoutOption": {
      "grid": true,
      "stack": true
     },
     "nuid": "10677533-9700-4bb0-8d59-6ac6b7414930",
     "origId": 945321716616951,
     "title": "Daily Attendance",
     "version": "DashboardViewV1",
     "width": 1024
    }
   ],
   "environmentMetadata": {
    "base_environment": "",
    "environment_version": "2"
   },
   "inputWidgetPreferences": null,
   "language": "python",
   "notebookMetadata": {
    "mostRecentlyExecutedCommandWithImplicitDF": {
     "commandId": 8564061935282265,
     "dataframes": [
      "_sqldf"
     ]
    },
    "pythonIndentUnit": 4
   },
   "notebookName": "GoogleSheets Data Load",
   "widgets": {}
  },
  "language_info": {
   "name": "python"
  }
 },
 "nbformat": 4,
 "nbformat_minor": 0
}
